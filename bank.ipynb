{
 "cells": [
  {
   "cell_type": "code",
   "execution_count": 3,
   "id": "3b27d024",
   "metadata": {},
   "outputs": [
    {
     "name": "stdout",
     "output_type": "stream",
     "text": [
      "🏦 Welcome to Python ATM 🏦\n",
      " Invalid account or PIN.\n",
      "\n"
     ]
    }
   ],
   "source": [
    "atm_users = {\n",
    "    '1234': {'pin': '0000', 'balance': 1000},\n",
    "    '5678': {'pin': '1111', 'balance': 500}\n",
    "}\n",
    "\n",
    "\n",
    "def login():\n",
    "    print(\"🏦 Welcome to Python ATM 🏦\")\n",
    "    account = input(\"Enter your Account Number: \")\n",
    "    pin = input(\"Enter your PIN: \")\n",
    "\n",
    "    if account in atm_users and atm_users[account]['pin'] == pin:\n",
    "        print(\" Login successful!\\n\")\n",
    "        return account\n",
    "    else:\n",
    "        print(\" Invalid account or PIN.\\n\")\n",
    "        return None\n",
    "\n",
    "\n",
    "def atm_menu(account):\n",
    "    while True:\n",
    "        print(\" 1. View Balance\")\n",
    "        print(\" 2. Deposit\")\n",
    "        print(\" 3. Withdraw\")\n",
    "        print(\" 4. Exit\")\n",
    "\n",
    "        choice = input(\"Choose an option: \")\n",
    "\n",
    "        if choice == '1':\n",
    "            print(f\" Your current balance is ₹{atm_users[account]['balance']}\\n\")\n",
    "\n",
    "        elif choice == '2':\n",
    "            amount = float(input(\"Enter amount to deposit: ₹\"))\n",
    "            atm_users[account]['balance'] += amount\n",
    "            print(f\"✅ ₹{amount} deposited successfully.\\n\")\n",
    "\n",
    "        elif choice == '3':\n",
    "            amount = float(input(\"Enter amount to withdraw: ₹\"))\n",
    "            if amount <= atm_users[account]['balance']:\n",
    "                atm_users[account]['balance'] -= amount\n",
    "                print(f\" ₹{amount} withdrawn successfully.\\n\")\n",
    "            else:\n",
    "                print(\" Insufficient balance.\\n\")\n",
    "\n",
    "        elif choice == '4':\n",
    "            print(\" Thank you for using Python ATM. Goodbye!\")\n",
    "            break\n",
    "\n",
    "        else:\n",
    "            print(\"Invalid option. Try again.\\n\")\n",
    "\n",
    "\n",
    "account_no = login()\n",
    "if account_no:\n",
    "    atm_menu(account_no)"
   ]
  }
 ],
 "metadata": {
  "kernelspec": {
   "display_name": "Python 3",
   "language": "python",
   "name": "python3"
  },
  "language_info": {
   "codemirror_mode": {
    "name": "ipython",
    "version": 3
   },
   "file_extension": ".py",
   "mimetype": "text/x-python",
   "name": "python",
   "nbconvert_exporter": "python",
   "pygments_lexer": "ipython3",
   "version": "3.11.9"
  }
 },
 "nbformat": 4,
 "nbformat_minor": 5
}
